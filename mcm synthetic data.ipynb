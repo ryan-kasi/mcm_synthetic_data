{
 "cells": [
  {
   "cell_type": "code",
   "execution_count": null,
   "metadata": {},
   "outputs": [],
   "source": [
    "import numpy as np\n",
    "import pandas as pd"
   ]
  },
  {
   "cell_type": "code",
   "execution_count": null,
   "metadata": {},
   "outputs": [],
   "source": [
    "# info i'm looking for is (ads for just 1 product):\n",
    "# Media platform (YT, FB, Google, email)\n",
    "# Spend/budget\n",
    "# impressions\n",
    "# clicks\n",
    "# if product was sold\n",
    "# revenue generated\n",
    "# user info (age, location/region, gender)\n",
    "# timestamps of ads served\n",
    "# timestamp if sold \n",
    "\n",
    "\n",
    "# basic flow:\n",
    "# if customer sees ad, probabilistically move to the next purchase phase based on ad suitability\n",
    "\n",
    "\n",
    "\n",
    "\n",
    "class Consumer:\n",
    "    channels = ['facebook', 'youtube', 'email', 'search']\n",
    "    phases = ['problem recognition', 'information search', 'evaluation of alternatives', \n",
    "              'purchase decision', 'purchase', 'repurchase']\n",
    "\n",
    "    base_effectiveness = np.array([\n",
    "    [0.05, 0.1, 0.5, 0.0],  # problem recognition\n",
    "    [0.05, 0.1, 0.5, 0.1],  # information search\n",
    "    [0.07, 0.08, 0.6, 0.1],  # evaluation of alternatives\n",
    "    [0.08, 0.05, 0.6, 0.05],  # purchase decision\n",
    "    [0.09, 0.0, 0.6, 0.1],  # purchase\n",
    "    [0.1, 0.0, 0.6, 0.1]]) # repurchase\n",
    "\n",
    "    def __init__(self, uid):\n",
    "        self.uid = uid\n",
    "        self.phase = np.random.randint(0,6)\n",
    "        self.transitions = np.random.uniform(0, 0.1, 6)\n",
    "        self.channel_phase_suitability = np.random.uniform(0, 0.1, size = [6,4]) + self.base_effectiveness\n",
    "        self.phase_cooldowns = np.random.randint(0, 8, 6)\n",
    "        self.phase_cooldowns[5] = np.random.randint(8, 31)\n",
    "        self.phase_cooldown = 0\n",
    "        self.channel_preference = np.random.exponential(size=5) # last channel is \"not online / no ads\"\n",
    "        self.channel_preference = self.channel_preference/self.channel_preference.sum()\n",
    "        \n",
    "    def see_ad(self, ad_channel):\n",
    "        clickthrough = False\n",
    "        purchase = False\n",
    "        if self.phase_cooldown == 0:\n",
    "            transition_probability = (self.channel_phase_suitability * self.transitions.reshape(6,1))[self.phase, ad_channel]\n",
    "            if transition_probability > np.random.random():\n",
    "                purchase = self.transition()\n",
    "                if np.random.random() < 0.1:\n",
    "                    clickthrough = True\n",
    "            else:\n",
    "                if np.random.random() < 0.01:\n",
    "                    clickthrough = True\n",
    "        return clickthrough, purchase\n",
    "    \n",
    "    def day(self, timestamp):\n",
    "        self.phase_cooldown = np.max([0, self.phase_cooldown - 1])\n",
    "        today_ads = np.max([0, int(np.random.normal(10, 10))])\n",
    "        if today_ads == 0:\n",
    "            return\n",
    "        ad_channels = np.random.choice(np.arange(5), size=today_ads, p = self.channel_preference)\n",
    "        ad_channels[np.where([ad_channels==2])[1][1:]] = 4\n",
    "        timestamps = [timestamp + datetime.timedelta(hours = 16 * i/(today_ads)) for i in range(today_ads)]\n",
    "        \n",
    "        responses = []\n",
    "        \n",
    "        for idx, ad_channel in enumerate(ad_channels):\n",
    "            if ad_channel != 4:\n",
    "                row = [self.uid, timestamps[idx].strftime('%Y-%m-%d %H:%M:%S'), self.channels[ad_channel]] + list(self.see_ad(ad_channel))\n",
    "                row = dict(zip(['uid', 'timestamp', 'channel', 'clickthrough', 'purchase'], row))\n",
    "                responses.append(row)\n",
    "        return responses\n",
    "        \n",
    "        \n",
    "    def transition(self):\n",
    "        purchase = False\n",
    "        self.phase_cooldown = self.phase_cooldowns[self.phase]\n",
    "        self.phase += 1\n",
    "        if 0.9 > np.random.random():\n",
    "            clickthrough = True\n",
    "        if self.phase > 4:\n",
    "            purchase = True\n",
    "        if self.phase==6:\n",
    "            self.phase=5\n",
    "        return purchase"
   ]
  },
  {
   "cell_type": "code",
   "execution_count": null,
   "metadata": {},
   "outputs": [],
   "source": [
    "uids = np.random.choice(np.arange(10000000, 100000000), size=10000)\n",
    "consumers = [Consumer(uid) for uid in uids]"
   ]
  },
  {
   "cell_type": "code",
   "execution_count": null,
   "metadata": {},
   "outputs": [],
   "source": [
    "\n",
    "responses = []\n",
    "start = datetime.datetime(2021, 1, 1, 8, 0, 0)\n",
    "for i in range(100):\n",
    "    day = start + datetime.timedelta(days=i)\n",
    "    print(day.strftime('%Y-%m-%d'))\n",
    "    for c in consumers:\n",
    "        response =  c.day(day)\n",
    "        if response:\n",
    "            responses.extend(response)\n",
    "    \n"
   ]
  },
  {
   "cell_type": "code",
   "execution_count": null,
   "metadata": {},
   "outputs": [],
   "source": [
    "pd.DataFrame(responses).shape"
   ]
  }
 ],
 "metadata": {
  "kernelspec": {
   "display_name": "Python [conda env:datasci]",
   "language": "python",
   "name": "conda-env-datasci-py"
  },
  "language_info": {
   "codemirror_mode": {
    "name": "ipython",
    "version": 3
   },
   "file_extension": ".py",
   "mimetype": "text/x-python",
   "name": "python",
   "nbconvert_exporter": "python",
   "pygments_lexer": "ipython3",
   "version": "3.8.5"
  }
 },
 "nbformat": 4,
 "nbformat_minor": 4
}
